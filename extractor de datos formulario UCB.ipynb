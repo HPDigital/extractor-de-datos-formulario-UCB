{
 "cells": [
  {
   "cell_type": "code",
   "execution_count": 2,
   "id": "7191a1de-f96e-44d2-b3f2-b0647c3b245a",
   "metadata": {},
   "outputs": [
    {
     "name": "stdout",
     "output_type": "stream",
     "text": [
      "                             Nombre Completo Fecha de Nacimiento  \\\n",
      "0  Apellido Paterno Apellido Materno Nombres           27 3 1997   \n",
      "\n",
      "                Email Programa a Estudiar  \n",
      "0  aloo4366@gmail.com    DATOS PERSONALES  \n"
     ]
    }
   ],
   "source": [
    "import pdfplumber\n",
    "import re\n",
    "import pandas as pd\n",
    "\n",
    "def extract_data_from_pdf(pdf_path):\n",
    "    # Abrir el PDF y extraer todo el texto\n",
    "    full_text = \"\"\n",
    "    with pdfplumber.open(pdf_path) as pdf:\n",
    "        for page in pdf.pages:\n",
    "            full_text += page.extract_text() + \"\\n\"\n",
    "    \n",
    "    # Dividir el texto en líneas para facilitar la búsqueda de patrones\n",
    "    lines = full_text.splitlines()\n",
    "    \n",
    "    # Diccionario donde almacenaremos la información extraída\n",
    "    data = {}\n",
    "    \n",
    "    # Ejemplo 1: Extraer el nombre completo.\n",
    "    # Se asume que tras el encabezado \"DATOS PERSONALES\" viene una línea con los nombres.\n",
    "    for i, line in enumerate(lines):\n",
    "        if \"DATOS PERSONALES\" in line:\n",
    "            if i+1 < len(lines):\n",
    "                data[\"Nombre Completo\"] = lines[i+1].strip()\n",
    "            break\n",
    "\n",
    "    # Ejemplo 2: Extraer la fecha de nacimiento.\n",
    "    # Se busca un patrón de fecha formado por día, mes y año.\n",
    "    match_dob = re.search(r'(\\d{1,2}\\s+\\d{1,2}\\s+\\d{4})', full_text)\n",
    "    if match_dob:\n",
    "        data[\"Fecha de Nacimiento\"] = match_dob.group(1)\n",
    "    else:\n",
    "        data[\"Fecha de Nacimiento\"] = None\n",
    "\n",
    "    # Ejemplo 3: Extraer el correo electrónico.\n",
    "    match_email = re.search(r'[\\w\\.-]+@[\\w\\.-]+', full_text)\n",
    "    if match_email:\n",
    "        data[\"Email\"] = match_email.group(0)\n",
    "    else:\n",
    "        data[\"Email\"] = None\n",
    "    \n",
    "    # Ejemplo 4: Extraer el programa a estudiar.\n",
    "    for idx, line in enumerate(lines):\n",
    "        if \"Programa a Estudiar\" in line:\n",
    "            if idx+1 < len(lines):\n",
    "                data[\"Programa a Estudiar\"] = lines[idx+1].strip()\n",
    "            break\n",
    "    \n",
    "    # Se pueden agregar más patrones para extraer otros campos según sea necesario.\n",
    "    return data\n",
    "\n",
    "if __name__ == \"__main__\":\n",
    "    pdf_file = r\"C:\\Users\\HP\\Downloads\\prueba.pdf\"\n",
    "    extracted_info = extract_data_from_pdf(pdf_file)\n",
    "    \n",
    "    # Convertir la información extraída en un DataFrame de pandas\n",
    "    df = pd.DataFrame([extracted_info])\n",
    "    print(df)\n"
   ]
  },
  {
   "cell_type": "code",
   "execution_count": null,
   "id": "040f7d4c-2b32-4ad1-a050-ab65251728b4",
   "metadata": {},
   "outputs": [],
   "source": []
  }
 ],
 "metadata": {
  "kernelspec": {
   "display_name": "Python 3 (ipykernel)",
   "language": "python",
   "name": "python3"
  },
  "language_info": {
   "codemirror_mode": {
    "name": "ipython",
    "version": 3
   },
   "file_extension": ".py",
   "mimetype": "text/x-python",
   "name": "python",
   "nbconvert_exporter": "python",
   "pygments_lexer": "ipython3",
   "version": "3.11.9"
  }
 },
 "nbformat": 4,
 "nbformat_minor": 5
}
